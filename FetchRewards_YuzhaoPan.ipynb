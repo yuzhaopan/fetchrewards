{
 "cells": [
  {
   "cell_type": "code",
   "execution_count": 2,
   "metadata": {},
   "outputs": [],
   "source": [
    "import os\n",
    "import pandas as pd\n",
    "from datetime import datetime\n",
    "import unicodedata"
   ]
  },
  {
   "cell_type": "code",
   "execution_count": 3,
   "metadata": {},
   "outputs": [],
   "source": [
    "brands = pd.read_json('brands.json', lines=True)\n",
    "brands['_id'] = brands['_id'].apply(lambda x: list(x.values())[0])\n",
    "\n",
    "brands = brands.rename(columns={'_id':'brandId'})\n",
    "brands['barcode'] = brands['barcode'].astype(str)\n",
    "#brands.head()"
   ]
  },
  {
   "cell_type": "code",
   "execution_count": 4,
   "metadata": {},
   "outputs": [],
   "source": [
    "cpg = brands[['brandId','cpg']].copy()\n",
    "cpg['oid'] = cpg['cpg'].apply(lambda x: list(x.values())[0] if len(list(x.values())[0]) != 4 else list(x.values())[1])\n",
    "cpg['oid'] = cpg['oid'].apply(lambda x: list(x.values())[0])\n",
    "cpg['ref'] = cpg['cpg'].apply(lambda x: list(x.values())[1] if len(list(x.values())[1]) == 4 else list(x.values())[0])\n",
    "cpg = cpg[['brandId','oid','ref']]\n",
    "brands = pd.merge(brands, cpg, how = 'left', on='brandId')"
   ]
  },
  {
   "cell_type": "code",
   "execution_count": 5,
   "metadata": {},
   "outputs": [
    {
     "data": {
      "text/html": [
       "<div>\n",
       "<style scoped>\n",
       "    .dataframe tbody tr th:only-of-type {\n",
       "        vertical-align: middle;\n",
       "    }\n",
       "\n",
       "    .dataframe tbody tr th {\n",
       "        vertical-align: top;\n",
       "    }\n",
       "\n",
       "    .dataframe thead th {\n",
       "        text-align: right;\n",
       "    }\n",
       "</style>\n",
       "<table border=\"1\" class=\"dataframe\">\n",
       "  <thead>\n",
       "    <tr style=\"text-align: right;\">\n",
       "      <th></th>\n",
       "      <th>brandId</th>\n",
       "      <th>barcode</th>\n",
       "      <th>category</th>\n",
       "      <th>categoryCode</th>\n",
       "      <th>cpg</th>\n",
       "      <th>name</th>\n",
       "      <th>topBrand</th>\n",
       "      <th>brandCode</th>\n",
       "      <th>oid</th>\n",
       "      <th>ref</th>\n",
       "    </tr>\n",
       "  </thead>\n",
       "  <tbody>\n",
       "    <tr>\n",
       "      <th>0</th>\n",
       "      <td>601ac115be37ce2ead437551</td>\n",
       "      <td>511111019862</td>\n",
       "      <td>Baking</td>\n",
       "      <td>BAKING</td>\n",
       "      <td>{'$id': {'$oid': '601ac114be37ce2ead437550'}, ...</td>\n",
       "      <td>test brand @1612366101024</td>\n",
       "      <td>0.0</td>\n",
       "      <td>NaN</td>\n",
       "      <td>601ac114be37ce2ead437550</td>\n",
       "      <td>Cogs</td>\n",
       "    </tr>\n",
       "    <tr>\n",
       "      <th>1</th>\n",
       "      <td>601c5460be37ce2ead43755f</td>\n",
       "      <td>511111519928</td>\n",
       "      <td>Beverages</td>\n",
       "      <td>BEVERAGES</td>\n",
       "      <td>{'$id': {'$oid': '5332f5fbe4b03c9a25efd0ba'}, ...</td>\n",
       "      <td>Starbucks</td>\n",
       "      <td>0.0</td>\n",
       "      <td>STARBUCKS</td>\n",
       "      <td>5332f5fbe4b03c9a25efd0ba</td>\n",
       "      <td>Cogs</td>\n",
       "    </tr>\n",
       "    <tr>\n",
       "      <th>2</th>\n",
       "      <td>601ac142be37ce2ead43755d</td>\n",
       "      <td>511111819905</td>\n",
       "      <td>Baking</td>\n",
       "      <td>BAKING</td>\n",
       "      <td>{'$id': {'$oid': '601ac142be37ce2ead437559'}, ...</td>\n",
       "      <td>test brand @1612366146176</td>\n",
       "      <td>0.0</td>\n",
       "      <td>TEST BRANDCODE @1612366146176</td>\n",
       "      <td>601ac142be37ce2ead437559</td>\n",
       "      <td>Cogs</td>\n",
       "    </tr>\n",
       "    <tr>\n",
       "      <th>3</th>\n",
       "      <td>601ac142be37ce2ead43755a</td>\n",
       "      <td>511111519874</td>\n",
       "      <td>Baking</td>\n",
       "      <td>BAKING</td>\n",
       "      <td>{'$id': {'$oid': '601ac142be37ce2ead437559'}, ...</td>\n",
       "      <td>test brand @1612366146051</td>\n",
       "      <td>0.0</td>\n",
       "      <td>TEST BRANDCODE @1612366146051</td>\n",
       "      <td>601ac142be37ce2ead437559</td>\n",
       "      <td>Cogs</td>\n",
       "    </tr>\n",
       "    <tr>\n",
       "      <th>4</th>\n",
       "      <td>601ac142be37ce2ead43755e</td>\n",
       "      <td>511111319917</td>\n",
       "      <td>Candy &amp; Sweets</td>\n",
       "      <td>CANDY_AND_SWEETS</td>\n",
       "      <td>{'$id': {'$oid': '5332fa12e4b03c9a25efd1e7'}, ...</td>\n",
       "      <td>test brand @1612366146827</td>\n",
       "      <td>0.0</td>\n",
       "      <td>TEST BRANDCODE @1612366146827</td>\n",
       "      <td>5332fa12e4b03c9a25efd1e7</td>\n",
       "      <td>Cogs</td>\n",
       "    </tr>\n",
       "  </tbody>\n",
       "</table>\n",
       "</div>"
      ],
      "text/plain": [
       "                    brandId       barcode        category      categoryCode  \\\n",
       "0  601ac115be37ce2ead437551  511111019862          Baking            BAKING   \n",
       "1  601c5460be37ce2ead43755f  511111519928       Beverages         BEVERAGES   \n",
       "2  601ac142be37ce2ead43755d  511111819905          Baking            BAKING   \n",
       "3  601ac142be37ce2ead43755a  511111519874          Baking            BAKING   \n",
       "4  601ac142be37ce2ead43755e  511111319917  Candy & Sweets  CANDY_AND_SWEETS   \n",
       "\n",
       "                                                 cpg  \\\n",
       "0  {'$id': {'$oid': '601ac114be37ce2ead437550'}, ...   \n",
       "1  {'$id': {'$oid': '5332f5fbe4b03c9a25efd0ba'}, ...   \n",
       "2  {'$id': {'$oid': '601ac142be37ce2ead437559'}, ...   \n",
       "3  {'$id': {'$oid': '601ac142be37ce2ead437559'}, ...   \n",
       "4  {'$id': {'$oid': '5332fa12e4b03c9a25efd1e7'}, ...   \n",
       "\n",
       "                        name  topBrand                      brandCode  \\\n",
       "0  test brand @1612366101024       0.0                            NaN   \n",
       "1                  Starbucks       0.0                      STARBUCKS   \n",
       "2  test brand @1612366146176       0.0  TEST BRANDCODE @1612366146176   \n",
       "3  test brand @1612366146051       0.0  TEST BRANDCODE @1612366146051   \n",
       "4  test brand @1612366146827       0.0  TEST BRANDCODE @1612366146827   \n",
       "\n",
       "                        oid   ref  \n",
       "0  601ac114be37ce2ead437550  Cogs  \n",
       "1  5332f5fbe4b03c9a25efd0ba  Cogs  \n",
       "2  601ac142be37ce2ead437559  Cogs  \n",
       "3  601ac142be37ce2ead437559  Cogs  \n",
       "4  5332fa12e4b03c9a25efd1e7  Cogs  "
      ]
     },
     "execution_count": 5,
     "metadata": {},
     "output_type": "execute_result"
    }
   ],
   "source": [
    "brands.head()"
   ]
  },
  {
   "cell_type": "code",
   "execution_count": 6,
   "metadata": {},
   "outputs": [],
   "source": [
    "def date(x):\n",
    "    if type(x) == float:\n",
    "        pass\n",
    "    else:\n",
    "        return(pd.to_datetime(list(x.values())[0], unit='ms'))\n",
    "\n",
    "def date1(x):\n",
    "    if type(x) == float:\n",
    "        pass\n",
    "    else:\n",
    "        return(x)"
   ]
  },
  {
   "cell_type": "code",
   "execution_count": 7,
   "metadata": {},
   "outputs": [],
   "source": [
    "receipts = pd.read_json('receipts.json', lines=True)\n",
    "receipts['_id'] = receipts['_id'].apply(lambda x: list(x.values())[0])\n",
    "receipts['createDate'] = receipts['createDate'].apply(lambda x: date(x))\n",
    "receipts['dateScanned'] = receipts['dateScanned'].apply(lambda x: date(x))\n",
    "receipts['finishedDate'] = receipts['finishedDate'].apply(lambda x: date(x))\n",
    "receipts['modifyDate'] = receipts['finishedDate'].apply(lambda x: date1(x))\n",
    "receipts['pointsAwardedDate'] = receipts['finishedDate'].apply(lambda x: date1(x))\n",
    "receipts['purchaseDate'] = receipts['finishedDate'].apply(lambda x: date1(x))\n",
    "\n",
    "receipts = receipts.rename(columns={'_id':'receiptId'})"
   ]
  },
  {
   "cell_type": "code",
   "execution_count": 8,
   "metadata": {},
   "outputs": [],
   "source": [
    "def explode(df, col):\n",
    "    df[col] = df[col].apply(lambda x: [x] if not isinstance(x, list) else x)\n",
    "    return df.drop(col, axis=1).join(pd.DataFrame(list(df[col])).stack().reset_index(level=1, drop=True).rename(col)) \n",
    "\n",
    "def explode1(x, key):\n",
    "    if type(x) == dict and key in x.keys(): return x[key]"
   ]
  },
  {
   "cell_type": "code",
   "execution_count": 9,
   "metadata": {},
   "outputs": [],
   "source": [
    "Itemslist = receipts[['rewardsReceiptItemList','receiptId','userId']].copy()\n",
    "Itemslist = explode(Itemslist,\"rewardsReceiptItemList\").reset_index()\n",
    "Itemslist = Itemslist.rename(columns={'index':'group'})"
   ]
  },
  {
   "cell_type": "code",
   "execution_count": 10,
   "metadata": {},
   "outputs": [],
   "source": [
    "keys_ = []\n",
    "for i in Itemslist['rewardsReceiptItemList']:\n",
    "    if type(i) != float:\n",
    "        for j in i.keys():\n",
    "            if j not in keys_:\n",
    "                keys_.append(j)\n"
   ]
  },
  {
   "cell_type": "code",
   "execution_count": 11,
   "metadata": {},
   "outputs": [],
   "source": [
    "Itemslist_ = pd.DataFrame(columns=keys_)\n",
    "\n",
    "for i in range(len(keys_)):\n",
    "    this_column = Itemslist_.columns[i]\n",
    "    Itemslist_[this_column] = Itemslist['rewardsReceiptItemList'].apply(lambda x: explode1(x,this_column))\n",
    "\n",
    "Itemslist = pd.concat([Itemslist,Itemslist_],axis=1)\n",
    "# Itemslist = Itemslist.rename(columns = {'barcode': 'productId'})"
   ]
  },
  {
   "cell_type": "code",
   "execution_count": 12,
   "metadata": {},
   "outputs": [],
   "source": [
    "users = pd.read_json('users.json', lines=True)\n",
    "users['_id'] = users['_id'].apply(lambda x: list(x.values())[0])\n",
    "users['createdDate'] = users['createdDate'].apply(lambda x: date(x))\n",
    "users['lastLogin'] = users['lastLogin'].apply(lambda x: date(x))\n",
    "\n",
    "users = users.rename(columns = {'_id':'userId'}) "
   ]
  },
  {
   "cell_type": "code",
   "execution_count": 13,
   "metadata": {},
   "outputs": [],
   "source": [
    "receipts.drop(['rewardsReceiptItemList'],axis=1, inplace = True)\n",
    "brands.drop(['cpg'],axis = 1,inplace = True)\n",
    "Itemslist.drop(['rewardsReceiptItemList'],axis=1,inplace = True)"
   ]
  },
  {
   "cell_type": "code",
   "execution_count": 14,
   "metadata": {},
   "outputs": [
    {
     "name": "stdout",
     "output_type": "stream",
     "text": [
      "Index(['userId', 'active', 'createdDate', 'lastLogin', 'role', 'signUpSource',\n",
      "       'state'],\n",
      "      dtype='object')\n"
     ]
    },
    {
     "data": {
      "text/plain": [
       "495"
      ]
     },
     "execution_count": 14,
     "metadata": {},
     "output_type": "execute_result"
    }
   ],
   "source": [
    "print(users.columns)\n",
    "len(users) "
   ]
  },
  {
   "cell_type": "code",
   "execution_count": 15,
   "metadata": {},
   "outputs": [
    {
     "name": "stdout",
     "output_type": "stream",
     "text": [
      "Index(['group', 'receiptId', 'userId', 'barcode', 'description', 'finalPrice',\n",
      "       'itemPrice', 'needsFetchReview', 'partnerItemId',\n",
      "       'preventTargetGapPoints', 'quantityPurchased', 'userFlaggedBarcode',\n",
      "       'userFlaggedNewItem', 'userFlaggedPrice', 'userFlaggedQuantity',\n",
      "       'needsFetchReviewReason', 'pointsNotAwardedReason', 'pointsPayerId',\n",
      "       'rewardsGroup', 'rewardsProductPartnerId', 'userFlaggedDescription',\n",
      "       'originalMetaBriteBarcode', 'originalMetaBriteDescription', 'brandCode',\n",
      "       'competitorRewardsGroup', 'discountedItemPrice',\n",
      "       'originalReceiptItemText', 'itemNumber',\n",
      "       'originalMetaBriteQuantityPurchased', 'pointsEarned', 'targetPrice',\n",
      "       'competitiveProduct', 'originalFinalPrice',\n",
      "       'originalMetaBriteItemPrice', 'deleted', 'priceAfterCoupon',\n",
      "       'metabriteCampaignId'],\n",
      "      dtype='object')\n"
     ]
    }
   ],
   "source": [
    "print(Itemslist.columns)"
   ]
  },
  {
   "cell_type": "markdown",
   "metadata": {},
   "source": [
    "### I saved the tables into csv files."
   ]
  },
  {
   "cell_type": "code",
   "execution_count": 16,
   "metadata": {},
   "outputs": [],
   "source": [
    "brands.to_csv('brands.csv',encoding='utf-8')\n",
    "Itemslist.to_csv('Itemslist.csv',encoding='utf-8')\n",
    "users.to_csv('users.csv',encoding='utf-8')\n",
    "receipts.to_csv('receipts.csv',encoding='utf-8')"
   ]
  },
  {
   "cell_type": "code",
   "execution_count": null,
   "metadata": {},
   "outputs": [],
   "source": []
  },
  {
   "cell_type": "markdown",
   "metadata": {},
   "source": [
    "## Part3: Data Issues"
   ]
  },
  {
   "cell_type": "markdown",
   "metadata": {},
   "source": [
    "### We first check for duplicate rows"
   ]
  },
  {
   "cell_type": "code",
   "execution_count": 17,
   "metadata": {},
   "outputs": [
    {
     "name": "stdout",
     "output_type": "stream",
     "text": [
      "Duplicate rows in brands:\n",
      " False    1167\n",
      "dtype: int64 \n",
      "\n",
      "Duplicate rows in receipts:\n",
      " False    1119\n",
      "dtype: int64 \n",
      "\n",
      "Duplicate rows in users:\n",
      " True     283\n",
      "False    212\n",
      "dtype: int64 \n",
      "\n",
      "duplicate rows in Itemslist:\n",
      " False    7381\n",
      "dtype: int64 \n",
      "\n"
     ]
    }
   ],
   "source": [
    "\n",
    "print('Duplicate rows in brands:\\n',\n",
    "      brands.duplicated().value_counts(),'\\n') \n",
    "print('Duplicate rows in receipts:\\n',\n",
    "      receipts.duplicated().value_counts(),'\\n') \n",
    "\n",
    "print('Duplicate rows in users:\\n',\n",
    "      users.duplicated().value_counts(),'\\n') \n",
    "\n",
    "print('duplicate rows in Itemslist:\\n',\n",
    "      Itemslist.duplicated().value_counts(),'\\n')"
   ]
  },
  {
   "cell_type": "markdown",
   "metadata": {},
   "source": [
    "##### we have 283 duplicate rows in users table"
   ]
  },
  {
   "cell_type": "markdown",
   "metadata": {},
   "source": [
    "### Then we check for missing values"
   ]
  },
  {
   "cell_type": "code",
   "execution_count": 18,
   "metadata": {},
   "outputs": [
    {
     "name": "stdout",
     "output_type": "stream",
     "text": [
      "brands dataset (1167 rows) \n",
      " null value of each variable:\n",
      " \n",
      " brandId           0\n",
      "barcode           0\n",
      "category        155\n",
      "categoryCode    650\n",
      "name              0\n",
      "topBrand        612\n",
      "brandCode       234\n",
      "oid               0\n",
      "ref               0\n",
      "dtype: int64 \n",
      "\n",
      "receipts dataset (1119 rows) \n",
      " null value of each variable:\n",
      " \n",
      " receiptId                    0\n",
      "bonusPointsEarned          575\n",
      "bonusPointsEarnedReason    575\n",
      "createDate                   0\n",
      "dateScanned                  0\n",
      "finishedDate               551\n",
      "modifyDate                 551\n",
      "pointsAwardedDate          551\n",
      "pointsEarned               510\n",
      "purchaseDate               551\n",
      "purchasedItemCount         484\n",
      "rewardsReceiptStatus         0\n",
      "totalSpent                 435\n",
      "userId                       0\n",
      "dtype: int64 \n",
      "\n",
      "users dataset (495 rows) \n",
      " null value of each variable:\n",
      " \n",
      " userId           0\n",
      "active           0\n",
      "createdDate      0\n",
      "lastLogin       62\n",
      "role             0\n",
      "signUpSource    48\n",
      "state           56\n",
      "dtype: int64 \n",
      "\n",
      "Itemslist dataset (7381 rows) \n",
      " null value of each variable:\n",
      " \n",
      " group                                    0\n",
      "receiptId                                0\n",
      "userId                                   0\n",
      "barcode                               4291\n",
      "description                            821\n",
      "finalPrice                             614\n",
      "itemPrice                              614\n",
      "needsFetchReview                      6568\n",
      "partnerItemId                          440\n",
      "preventTargetGapPoints                7023\n",
      "quantityPurchased                      614\n",
      "userFlaggedBarcode                    7044\n",
      "userFlaggedNewItem                    7058\n",
      "userFlaggedPrice                      7082\n",
      "userFlaggedQuantity                   7082\n",
      "needsFetchReviewReason                7162\n",
      "pointsNotAwardedReason                7041\n",
      "pointsPayerId                         6114\n",
      "rewardsGroup                          5650\n",
      "rewardsProductPartnerId               5112\n",
      "userFlaggedDescription                7176\n",
      "originalMetaBriteBarcode              7310\n",
      "originalMetaBriteDescription          7371\n",
      "brandCode                             4781\n",
      "competitorRewardsGroup                7106\n",
      "discountedItemPrice                   1612\n",
      "originalReceiptItemText               1621\n",
      "itemNumber                            7228\n",
      "originalMetaBriteQuantityPurchased    7366\n",
      "pointsEarned                          6454\n",
      "targetPrice                           7003\n",
      "competitiveProduct                    6736\n",
      "originalFinalPrice                    7372\n",
      "originalMetaBriteItemPrice            7372\n",
      "deleted                               7372\n",
      "priceAfterCoupon                      6425\n",
      "metabriteCampaignId                   6518\n",
      "dtype: int64 \n",
      "\n"
     ]
    }
   ],
   "source": [
    "print ('brands dataset ({} rows) \\n null value of each variable:\\n'.format(brands.shape[0]),\n",
    "       '\\n',brands.isnull().sum(),'\\n')\n",
    "print ('receipts dataset ({} rows) \\n null value of each variable:\\n'.format(receipts.shape[0]),\n",
    "       '\\n',receipts.isnull().sum(),'\\n')\n",
    "print ('users dataset ({} rows) \\n null value of each variable:\\n'.format(users.shape[0]),\n",
    "       '\\n',users.isnull().sum(),'\\n')\n",
    "print ('Itemslist dataset ({} rows) \\n null value of each variable:\\n'.format(Itemslist.shape[0]),\n",
    "       '\\n',Itemslist.isnull().sum(),'\\n')"
   ]
  },
  {
   "cell_type": "markdown",
   "metadata": {},
   "source": [
    "#### this is understandable because when we unfold the json files there are a lot of rows with null values."
   ]
  },
  {
   "cell_type": "markdown",
   "metadata": {},
   "source": [
    "## We then explore some problems with the barcode"
   ]
  },
  {
   "cell_type": "code",
   "execution_count": 19,
   "metadata": {},
   "outputs": [
    {
     "data": {
      "text/plain": [
       "<bound method Series.unique of 0               4011\n",
       "1               4011\n",
       "2       028400642255\n",
       "3               None\n",
       "4               4011\n",
       "            ...     \n",
       "7376            None\n",
       "7377            None\n",
       "7378      B076FJ92M4\n",
       "7379      B07BRRLSVC\n",
       "7380            None\n",
       "Name: barcode, Length: 7381, dtype: object>"
      ]
     },
     "execution_count": 19,
     "metadata": {},
     "output_type": "execute_result"
    }
   ],
   "source": [
    "Itemslist['barcode'].unique"
   ]
  },
  {
   "cell_type": "code",
   "execution_count": 20,
   "metadata": {},
   "outputs": [
    {
     "data": {
      "text/plain": [
       "<bound method Series.unique of 0       511111019862\n",
       "1       511111519928\n",
       "2       511111819905\n",
       "3       511111519874\n",
       "4       511111319917\n",
       "            ...     \n",
       "1162    511111116752\n",
       "1163    511111706328\n",
       "1164    511111416173\n",
       "1165    511111400608\n",
       "1166    511111019930\n",
       "Name: barcode, Length: 1167, dtype: object>"
      ]
     },
     "execution_count": 20,
     "metadata": {},
     "output_type": "execute_result"
    }
   ],
   "source": [
    "brands['barcode'].unique"
   ]
  },
  {
   "cell_type": "markdown",
   "metadata": {},
   "source": [
    "#### As we can see, brands has 1167 barcodes and itemlist has 7381, which is not matched."
   ]
  },
  {
   "cell_type": "code",
   "execution_count": 22,
   "metadata": {},
   "outputs": [
    {
     "name": "stdout",
     "output_type": "stream",
     "text": [
      "There are 58.14% items in receipts item list that does not have a barcode.\n"
     ]
    }
   ],
   "source": [
    "missing = round(100*Itemslist['barcode'].isnull().sum()/len(Itemslist),2)\n",
    "print('There are %s%s items in receipts item list that does not have a barcode.' % (missing,'%'))"
   ]
  },
  {
   "cell_type": "code",
   "execution_count": 22,
   "metadata": {},
   "outputs": [
    {
     "name": "stdout",
     "output_type": "stream",
     "text": [
      "Only 15.64% items in receipts item list can be found in brands data set.\n"
     ]
    }
   ],
   "source": [
    "merged_barcode = pd.merge(left = Itemslist, right = brands,how = 'inner', on = ['barcode'])\n",
    "percentage = round(100*len(merged_barcode)/len(Itemslist['barcode'].unique()),2)\n",
    "print('Only %s%s items in receipts item list can be found in brands data set.' % (percentage,'%'))"
   ]
  },
  {
   "cell_type": "markdown",
   "metadata": {},
   "source": [
    "#### We then check for problems in the user data set"
   ]
  },
  {
   "cell_type": "code",
   "execution_count": 23,
   "metadata": {},
   "outputs": [
    {
     "name": "stdout",
     "output_type": "stream",
     "text": [
      "117 users by receipts scanned are not found in users data set.\n"
     ]
    }
   ],
   "source": [
    "users_issue = []\n",
    "for i in receipts['userId'].unique():\n",
    "    if i not in users['userId'].unique():\n",
    "        users_issue.append(i)\n",
    "print('%d users by receipts scanned are not found in users data set.' %len(users_issue))"
   ]
  },
  {
   "cell_type": "code",
   "execution_count": null,
   "metadata": {},
   "outputs": [],
   "source": []
  }
 ],
 "metadata": {
  "kernelspec": {
   "display_name": "Python 3",
   "language": "python",
   "name": "python3"
  },
  "language_info": {
   "codemirror_mode": {
    "name": "ipython",
    "version": 3
   },
   "file_extension": ".py",
   "mimetype": "text/x-python",
   "name": "python",
   "nbconvert_exporter": "python",
   "pygments_lexer": "ipython3",
   "version": "3.8.3"
  }
 },
 "nbformat": 4,
 "nbformat_minor": 4
}
